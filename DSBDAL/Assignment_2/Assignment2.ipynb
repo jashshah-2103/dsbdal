{
 "cells": [
  {
   "cell_type": "markdown",
   "id": "ad0ff503",
   "metadata": {},
   "source": [
    "# DSBDAL Assignment 2 - Data Wrangling II"
   ]
  },
  {
   "cell_type": "markdown",
   "id": "ac3da932",
   "metadata": {},
   "source": [
    "## Importing required Libraries"
   ]
  },
  {
   "cell_type": "code",
   "execution_count": 1,
   "id": "1bb7da89",
   "metadata": {},
   "outputs": [],
   "source": [
    "import pandas as pd\n",
    "import numpy as np\n",
    "import matplotlib.pyplot as plt"
   ]
  },
  {
   "cell_type": "markdown",
   "id": "81bd01c1",
   "metadata": {},
   "source": [
    "## Reading csv file"
   ]
  },
  {
   "cell_type": "code",
   "execution_count": 2,
   "id": "f6932de8",
   "metadata": {},
   "outputs": [],
   "source": [
    "df=pd.read_csv('student_data.csv')"
   ]
  },
  {
   "cell_type": "markdown",
   "id": "3911dd42",
   "metadata": {},
   "source": [
    "## Displaying first 5 records"
   ]
  },
  {
   "cell_type": "code",
   "execution_count": 3,
   "id": "a5e3d914",
   "metadata": {},
   "outputs": [
    {
     "data": {
      "text/html": [
       "<div>\n",
       "<style scoped>\n",
       "    .dataframe tbody tr th:only-of-type {\n",
       "        vertical-align: middle;\n",
       "    }\n",
       "\n",
       "    .dataframe tbody tr th {\n",
       "        vertical-align: top;\n",
       "    }\n",
       "\n",
       "    .dataframe thead th {\n",
       "        text-align: right;\n",
       "    }\n",
       "</style>\n",
       "<table border=\"1\" class=\"dataframe\">\n",
       "  <thead>\n",
       "    <tr style=\"text-align: right;\">\n",
       "      <th></th>\n",
       "      <th>rollno</th>\n",
       "      <th>branch</th>\n",
       "      <th>marksPhy</th>\n",
       "      <th>marksChem</th>\n",
       "      <th>marksEM1</th>\n",
       "      <th>marksELEC</th>\n",
       "      <th>marksSME</th>\n",
       "      <th>Percentage</th>\n",
       "      <th>attendance</th>\n",
       "      <th>gender</th>\n",
       "    </tr>\n",
       "  </thead>\n",
       "  <tbody>\n",
       "    <tr>\n",
       "      <th>0</th>\n",
       "      <td>1</td>\n",
       "      <td>Comp</td>\n",
       "      <td>50.0</td>\n",
       "      <td>39.0</td>\n",
       "      <td>45.0</td>\n",
       "      <td>99.0</td>\n",
       "      <td>90.0</td>\n",
       "      <td>64.6</td>\n",
       "      <td>78.0</td>\n",
       "      <td>M</td>\n",
       "    </tr>\n",
       "    <tr>\n",
       "      <th>1</th>\n",
       "      <td>2</td>\n",
       "      <td>IT</td>\n",
       "      <td>33.0</td>\n",
       "      <td>77.0</td>\n",
       "      <td>33.0</td>\n",
       "      <td>54.0</td>\n",
       "      <td>54.0</td>\n",
       "      <td>50.2</td>\n",
       "      <td>88.0</td>\n",
       "      <td>M</td>\n",
       "    </tr>\n",
       "    <tr>\n",
       "      <th>2</th>\n",
       "      <td>3</td>\n",
       "      <td>IT</td>\n",
       "      <td>55.0</td>\n",
       "      <td>86.0</td>\n",
       "      <td>66.0</td>\n",
       "      <td>34.0</td>\n",
       "      <td>67.0</td>\n",
       "      <td>61.6</td>\n",
       "      <td>99.0</td>\n",
       "      <td>F</td>\n",
       "    </tr>\n",
       "    <tr>\n",
       "      <th>3</th>\n",
       "      <td>4</td>\n",
       "      <td>IT</td>\n",
       "      <td>77.0</td>\n",
       "      <td>79.0</td>\n",
       "      <td>88.0</td>\n",
       "      <td>67.0</td>\n",
       "      <td>NaN</td>\n",
       "      <td>62.2</td>\n",
       "      <td>76.0</td>\n",
       "      <td>F</td>\n",
       "    </tr>\n",
       "    <tr>\n",
       "      <th>4</th>\n",
       "      <td>5</td>\n",
       "      <td>Comp</td>\n",
       "      <td>1000.0</td>\n",
       "      <td>56.0</td>\n",
       "      <td>99.0</td>\n",
       "      <td>NaN</td>\n",
       "      <td>76.0</td>\n",
       "      <td>246.2</td>\n",
       "      <td>75.0</td>\n",
       "      <td>F</td>\n",
       "    </tr>\n",
       "  </tbody>\n",
       "</table>\n",
       "</div>"
      ],
      "text/plain": [
       "   rollno branch  marksPhy  marksChem  marksEM1  marksELEC  marksSME  \\\n",
       "0       1   Comp      50.0       39.0      45.0       99.0      90.0   \n",
       "1       2     IT      33.0       77.0      33.0       54.0      54.0   \n",
       "2       3     IT      55.0       86.0      66.0       34.0      67.0   \n",
       "3       4     IT      77.0       79.0      88.0       67.0       NaN   \n",
       "4       5   Comp    1000.0       56.0      99.0        NaN      76.0   \n",
       "\n",
       "   Percentage  attendance gender  \n",
       "0        64.6        78.0      M  \n",
       "1        50.2        88.0      M  \n",
       "2        61.6        99.0      F  \n",
       "3        62.2        76.0      F  \n",
       "4       246.2        75.0      F  "
      ]
     },
     "execution_count": 3,
     "metadata": {},
     "output_type": "execute_result"
    }
   ],
   "source": [
    "df.head()"
   ]
  },
  {
   "cell_type": "markdown",
   "id": "c99a8a9b",
   "metadata": {},
   "source": [
    "## Exploring Data"
   ]
  },
  {
   "cell_type": "code",
   "execution_count": 4,
   "id": "95788034",
   "metadata": {},
   "outputs": [
    {
     "data": {
      "text/plain": [
       "marksPhy      15\n",
       "marksEM1      14\n",
       "attendance    11\n",
       "marksSME      10\n",
       "marksELEC      4\n",
       "marksChem      2\n",
       "rollno         0\n",
       "branch         0\n",
       "Percentage     0\n",
       "gender         0\n",
       "dtype: int64"
      ]
     },
     "execution_count": 4,
     "metadata": {},
     "output_type": "execute_result"
    }
   ],
   "source": [
    "df.isnull().sum().sort_values(ascending=False)"
   ]
  },
  {
   "cell_type": "code",
   "execution_count": 5,
   "id": "b55765c2",
   "metadata": {},
   "outputs": [
    {
     "data": {
      "text/html": [
       "<div>\n",
       "<style scoped>\n",
       "    .dataframe tbody tr th:only-of-type {\n",
       "        vertical-align: middle;\n",
       "    }\n",
       "\n",
       "    .dataframe tbody tr th {\n",
       "        vertical-align: top;\n",
       "    }\n",
       "\n",
       "    .dataframe thead th {\n",
       "        text-align: right;\n",
       "    }\n",
       "</style>\n",
       "<table border=\"1\" class=\"dataframe\">\n",
       "  <thead>\n",
       "    <tr style=\"text-align: right;\">\n",
       "      <th></th>\n",
       "      <th>rollno</th>\n",
       "      <th>marksPhy</th>\n",
       "      <th>marksChem</th>\n",
       "      <th>marksEM1</th>\n",
       "      <th>marksELEC</th>\n",
       "      <th>marksSME</th>\n",
       "      <th>Percentage</th>\n",
       "      <th>attendance</th>\n",
       "    </tr>\n",
       "  </thead>\n",
       "  <tbody>\n",
       "    <tr>\n",
       "      <th>count</th>\n",
       "      <td>100.000000</td>\n",
       "      <td>85.000000</td>\n",
       "      <td>98.000000</td>\n",
       "      <td>86.000000</td>\n",
       "      <td>96.000000</td>\n",
       "      <td>90.000000</td>\n",
       "      <td>100.000000</td>\n",
       "      <td>89.000000</td>\n",
       "    </tr>\n",
       "    <tr>\n",
       "      <th>mean</th>\n",
       "      <td>50.500000</td>\n",
       "      <td>79.635294</td>\n",
       "      <td>71.316327</td>\n",
       "      <td>71.267442</td>\n",
       "      <td>83.760417</td>\n",
       "      <td>68.333333</td>\n",
       "      <td>68.156000</td>\n",
       "      <td>83.438202</td>\n",
       "    </tr>\n",
       "    <tr>\n",
       "      <th>std</th>\n",
       "      <td>29.011492</td>\n",
       "      <td>118.834403</td>\n",
       "      <td>36.234800</td>\n",
       "      <td>38.161399</td>\n",
       "      <td>117.578171</td>\n",
       "      <td>53.115308</td>\n",
       "      <td>35.503189</td>\n",
       "      <td>21.918213</td>\n",
       "    </tr>\n",
       "    <tr>\n",
       "      <th>min</th>\n",
       "      <td>1.000000</td>\n",
       "      <td>-55.000000</td>\n",
       "      <td>-44.000000</td>\n",
       "      <td>-45.000000</td>\n",
       "      <td>-99.000000</td>\n",
       "      <td>-88.000000</td>\n",
       "      <td>17.400000</td>\n",
       "      <td>-99.000000</td>\n",
       "    </tr>\n",
       "    <tr>\n",
       "      <th>25%</th>\n",
       "      <td>25.750000</td>\n",
       "      <td>54.000000</td>\n",
       "      <td>56.000000</td>\n",
       "      <td>56.000000</td>\n",
       "      <td>58.500000</td>\n",
       "      <td>54.250000</td>\n",
       "      <td>50.800000</td>\n",
       "      <td>78.000000</td>\n",
       "    </tr>\n",
       "    <tr>\n",
       "      <th>50%</th>\n",
       "      <td>50.500000</td>\n",
       "      <td>67.000000</td>\n",
       "      <td>74.000000</td>\n",
       "      <td>67.000000</td>\n",
       "      <td>77.500000</td>\n",
       "      <td>67.000000</td>\n",
       "      <td>63.100000</td>\n",
       "      <td>87.000000</td>\n",
       "    </tr>\n",
       "    <tr>\n",
       "      <th>75%</th>\n",
       "      <td>75.250000</td>\n",
       "      <td>88.000000</td>\n",
       "      <td>88.000000</td>\n",
       "      <td>88.000000</td>\n",
       "      <td>90.000000</td>\n",
       "      <td>87.750000</td>\n",
       "      <td>75.200000</td>\n",
       "      <td>90.000000</td>\n",
       "    </tr>\n",
       "    <tr>\n",
       "      <th>max</th>\n",
       "      <td>100.000000</td>\n",
       "      <td>1000.000000</td>\n",
       "      <td>333.000000</td>\n",
       "      <td>333.000000</td>\n",
       "      <td>1111.000000</td>\n",
       "      <td>444.000000</td>\n",
       "      <td>274.000000</td>\n",
       "      <td>99.000000</td>\n",
       "    </tr>\n",
       "  </tbody>\n",
       "</table>\n",
       "</div>"
      ],
      "text/plain": [
       "           rollno     marksPhy   marksChem    marksEM1    marksELEC  \\\n",
       "count  100.000000    85.000000   98.000000   86.000000    96.000000   \n",
       "mean    50.500000    79.635294   71.316327   71.267442    83.760417   \n",
       "std     29.011492   118.834403   36.234800   38.161399   117.578171   \n",
       "min      1.000000   -55.000000  -44.000000  -45.000000   -99.000000   \n",
       "25%     25.750000    54.000000   56.000000   56.000000    58.500000   \n",
       "50%     50.500000    67.000000   74.000000   67.000000    77.500000   \n",
       "75%     75.250000    88.000000   88.000000   88.000000    90.000000   \n",
       "max    100.000000  1000.000000  333.000000  333.000000  1111.000000   \n",
       "\n",
       "         marksSME  Percentage  attendance  \n",
       "count   90.000000  100.000000   89.000000  \n",
       "mean    68.333333   68.156000   83.438202  \n",
       "std     53.115308   35.503189   21.918213  \n",
       "min    -88.000000   17.400000  -99.000000  \n",
       "25%     54.250000   50.800000   78.000000  \n",
       "50%     67.000000   63.100000   87.000000  \n",
       "75%     87.750000   75.200000   90.000000  \n",
       "max    444.000000  274.000000   99.000000  "
      ]
     },
     "execution_count": 5,
     "metadata": {},
     "output_type": "execute_result"
    }
   ],
   "source": [
    "df.describe()"
   ]
  },
  {
   "cell_type": "code",
   "execution_count": 6,
   "id": "3ec027c4",
   "metadata": {},
   "outputs": [
    {
     "data": {
      "text/plain": [
       "rollno          int64\n",
       "branch         object\n",
       "marksPhy      float64\n",
       "marksChem     float64\n",
       "marksEM1      float64\n",
       "marksELEC     float64\n",
       "marksSME      float64\n",
       "Percentage    float64\n",
       "attendance    float64\n",
       "gender         object\n",
       "dtype: object"
      ]
     },
     "execution_count": 6,
     "metadata": {},
     "output_type": "execute_result"
    }
   ],
   "source": [
    "df.dtypes\n"
   ]
  },
  {
   "cell_type": "code",
   "execution_count": 7,
   "id": "ca9d8481",
   "metadata": {},
   "outputs": [
    {
     "name": "stdout",
     "output_type": "stream",
     "text": [
      "Our data set contains 100 rows and 10 columns\n"
     ]
    }
   ],
   "source": [
    "print('Our data set contains {} rows and {} columns'.format(df.shape[0],df.shape[1]))\n"
   ]
  },
  {
   "cell_type": "code",
   "execution_count": 8,
   "id": "a1708f53",
   "metadata": {},
   "outputs": [
    {
     "name": "stdout",
     "output_type": "stream",
     "text": [
      "<class 'pandas.core.frame.DataFrame'>\n",
      "RangeIndex: 100 entries, 0 to 99\n",
      "Data columns (total 10 columns):\n",
      " #   Column      Non-Null Count  Dtype  \n",
      "---  ------      --------------  -----  \n",
      " 0   rollno      100 non-null    int64  \n",
      " 1   branch      100 non-null    object \n",
      " 2   marksPhy    85 non-null     float64\n",
      " 3   marksChem   98 non-null     float64\n",
      " 4   marksEM1    86 non-null     float64\n",
      " 5   marksELEC   96 non-null     float64\n",
      " 6   marksSME    90 non-null     float64\n",
      " 7   Percentage  100 non-null    float64\n",
      " 8   attendance  89 non-null     float64\n",
      " 9   gender      100 non-null    object \n",
      "dtypes: float64(7), int64(1), object(2)\n",
      "memory usage: 7.9+ KB\n"
     ]
    }
   ],
   "source": [
    "df.info()"
   ]
  },
  {
   "cell_type": "code",
   "execution_count": 9,
   "id": "57bc0d15",
   "metadata": {},
   "outputs": [
    {
     "data": {
      "text/plain": [
       "ENTC    41\n",
       "IT      33\n",
       "Comp    26\n",
       "Name: branch, dtype: int64"
      ]
     },
     "execution_count": 9,
     "metadata": {},
     "output_type": "execute_result"
    }
   ],
   "source": [
    "df.branch.value_counts()"
   ]
  },
  {
   "cell_type": "markdown",
   "id": "b7f5968d",
   "metadata": {},
   "source": [
    "## Preprocessing Data "
   ]
  },
  {
   "cell_type": "markdown",
   "id": "2c02793c",
   "metadata": {},
   "source": [
    "### Replacing out of bound values with Nan"
   ]
  },
  {
   "cell_type": "code",
   "execution_count": 10,
   "id": "773ab7dd",
   "metadata": {},
   "outputs": [],
   "source": [
    "pd.options.mode.chained_assignment = None\n",
    "for i in range(df.shape[0]):\n",
    "    if(df.marksPhy[i]<0 or df.marksPhy[i]>100):\n",
    "        df.marksPhy[i]=(np.nan)\n",
    "        \n",
    "for i in range(df.shape[0]):\n",
    "    if(df.marksChem[i]<0 or df.marksChem[i]>100):\n",
    "        df.marksChem[i]=(np.nan)\n",
    "       \n",
    "for i in range(df.shape[0]):\n",
    "    if(df.marksEM1[i]<0 or df.marksEM1[i]>100):\n",
    "        df.marksEM1[i]=(np.nan)\n",
    "        \n",
    "for i in range(df.shape[0]):\n",
    "    if(df.marksELEC[i]<0 or df.marksELEC[i]>100):\n",
    "        df.marksELEC[i]=(np.nan)\n",
    "       \n",
    "for i in range(df.shape[0]):\n",
    "    if(df.marksSME[i]<0 or df.marksSME[i]>100):\n",
    "        df.marksSME[i]=(np.nan)\n",
    "    \n",
    "for i in range(df.shape[0]):\n",
    "    if(df.attendance[i]<0 or df.attendance[i]>100):\n",
    "        df.attendance[i]=(np.nan)\n",
    "        \n"
   ]
  },
  {
   "cell_type": "markdown",
   "id": "cbd84da4",
   "metadata": {},
   "source": [
    "### Handling outliers "
   ]
  },
  {
   "cell_type": "code",
   "execution_count": 11,
   "id": "aad2abd0",
   "metadata": {},
   "outputs": [
    {
     "data": {
      "text/plain": [
       "<AxesSubplot:>"
      ]
     },
     "execution_count": 11,
     "metadata": {},
     "output_type": "execute_result"
    },
    {
     "data": {
      "image/png": "[encoded data removed]",
      "text/plain": [
       "<Figure size 432x288 with 1 Axes>"
      ]
     },
     "metadata": {
      "needs_background": "light"
     },
     "output_type": "display_data"
    }
   ],
   "source": [
    "df.boxplot(column=['marksPhy'],return_type='axes')"
   ]
  },
  {
   "cell_type": "code",
   "execution_count": 12,
   "id": "4331df87",
   "metadata": {},
   "outputs": [
    {
     "data": {
      "text/plain": [
       "<AxesSubplot:>"
      ]
     },
     "execution_count": 12,
     "metadata": {},
     "output_type": "execute_result"
    },
    {
     "data": {
      "image/png": "[encoded data removed]",
      "text/plain": [
       "<Figure size 432x288 with 1 Axes>"
      ]
     },
     "metadata": {
      "needs_background": "light"
     },
     "output_type": "display_data"
    }
   ],
   "source": [
    "df.boxplot(column=['marksChem'],return_type='axes')"
   ]
  },
  {
   "cell_type": "code",
   "execution_count": 13,
   "id": "6ffdb440",
   "metadata": {},
   "outputs": [
    {
     "data": {
      "text/plain": [
       "<AxesSubplot:>"
      ]
     },
     "execution_count": 13,
     "metadata": {},
     "output_type": "execute_result"
    },
    {
     "data": {
      "image/png": "[encoded data removed]",
      "text/plain": [
       "<Figure size 432x288 with 1 Axes>"
      ]
     },
     "metadata": {
      "needs_background": "light"
     },
     "output_type": "display_data"
    }
   ],
   "source": [
    "df.boxplot(column=['marksEM1'],return_type='axes')"
   ]
  },
  {
   "cell_type": "code",
   "execution_count": 14,
   "id": "b2c17025",
   "metadata": {},
   "outputs": [
    {
     "data": {
      "text/plain": [
       "<AxesSubplot:>"
      ]
     },
     "execution_count": 14,
     "metadata": {},
     "output_type": "execute_result"
    },
    {
     "data": {
      "image/png": "[encoded data removed]",
      "text/plain": [
       "<Figure size 432x288 with 1 Axes>"
      ]
     },
     "metadata": {
      "needs_background": "light"
     },
     "output_type": "display_data"
    }
   ],
   "source": [
    "df.boxplot(column=['marksELEC'],return_type='axes')"
   ]
  },
  {
   "cell_type": "markdown",
   "id": "ad7dc483",
   "metadata": {},
   "source": [
    "### marksSME column has outliers and is handeled by replcing records with median\n"
   ]
  },
  {
   "cell_type": "code",
   "execution_count": 15,
   "id": "f9d3266b",
   "metadata": {},
   "outputs": [
    {
     "data": {
      "text/plain": [
       "<AxesSubplot:>"
      ]
     },
     "execution_count": 15,
     "metadata": {},
     "output_type": "execute_result"
    },
    {
     "data": {
      "image/png": "[encoded data removed]",
      "text/plain": [
       "<Figure size 432x288 with 1 Axes>"
      ]
     },
     "metadata": {
      "needs_background": "light"
     },
     "output_type": "display_data"
    }
   ],
   "source": [
    "df.boxplot(column=['marksSME'],return_type='axes')"
   ]
  },
  {
   "cell_type": "code",
   "execution_count": 16,
   "id": "d2730279",
   "metadata": {},
   "outputs": [],
   "source": [
    "Q1=df['marksSME'].quantile(0.25)\n",
    "Q3=df['marksSME'].quantile(0.75)\n",
    "IQR=Q3-Q1\n",
    "Lower_Whisker=Q1-1.5*IQR\n",
    "median = df.loc[df['marksSME']>Lower_Whisker, 'marksSME'].median()\n",
    "df['marksSME']=np.where(df['marksSME']<Lower_Whisker,median,df['marksSME'])\n",
    "# df.loc[df.marksSME > 75, 'Age'] = np.nan\n",
    "# df.fillna(median,inplace=True)\n",
    "#df=df[df['marksSME']>Lower_Whisker]"
   ]
  },
  {
   "cell_type": "code",
   "execution_count": 17,
   "id": "9ca4f318",
   "metadata": {},
   "outputs": [
    {
     "data": {
      "text/plain": [
       "<AxesSubplot:>"
      ]
     },
     "execution_count": 17,
     "metadata": {},
     "output_type": "execute_result"
    },
    {
     "data": {
      "image/png": "[encoded data removed]",
      "text/plain": [
       "<Figure size 432x288 with 1 Axes>"
      ]
     },
     "metadata": {
      "needs_background": "light"
     },
     "output_type": "display_data"
    }
   ],
   "source": [
    "df.boxplot(column=['marksSME'],return_type='axes')"
   ]
  },
  {
   "cell_type": "markdown",
   "id": "f728425c",
   "metadata": {},
   "source": [
    "### Filling the null values with mean values"
   ]
  },
  {
   "cell_type": "code",
   "execution_count": 18,
   "id": "aef726f0",
   "metadata": {},
   "outputs": [],
   "source": [
    "df['marksPhy'].fillna((df['marksPhy'].mean()),inplace=True)\n",
    "df['marksChem'].fillna((df['marksChem'].mean()),inplace=True)\n",
    "df['marksEM1'].fillna((df['marksEM1'].mean()),inplace=True)\n",
    "df['marksELEC'].fillna((df['marksELEC'].mean()),inplace=True)\n",
    "df['marksSME'].fillna((df['marksSME'].mean()),inplace=True)"
   ]
  },
  {
   "cell_type": "markdown",
   "id": "9e127932",
   "metadata": {},
   "source": [
    "### Calculating the percentage"
   ]
  },
  {
   "cell_type": "code",
   "execution_count": 19,
   "id": "ea3759d0",
   "metadata": {},
   "outputs": [],
   "source": [
    "df['Percentage']=(df['marksPhy']+df['marksChem']+df['marksEM1']+df['marksELEC']+df['marksSME'])/5"
   ]
  },
  {
   "cell_type": "markdown",
   "id": "8cdb7f77",
   "metadata": {},
   "source": [
    "### Percentage column has a outlier and is handeled by deleting that respective record"
   ]
  },
  {
   "cell_type": "code",
   "execution_count": 20,
   "id": "c91b3465",
   "metadata": {},
   "outputs": [
    {
     "data": {
      "text/plain": [
       "<AxesSubplot:>"
      ]
     },
     "execution_count": 20,
     "metadata": {},
     "output_type": "execute_result"
    },
    {
     "data": {
      "image/png": "[encoded data removed]",
      "text/plain": [
       "<Figure size 432x288 with 1 Axes>"
      ]
     },
     "metadata": {
      "needs_background": "light"
     },
     "output_type": "display_data"
    }
   ],
   "source": [
    "df.boxplot(column=['Percentage'],return_type='axes')"
   ]
  },
  {
   "cell_type": "code",
   "execution_count": 21,
   "id": "cdc386ba",
   "metadata": {},
   "outputs": [],
   "source": [
    "Q1=df['Percentage'].quantile(0.25)\n",
    "Q3=df['Percentage'].quantile(0.75)\n",
    "IQR=Q3-Q1\n",
    "Lower_Whisker=Q1-1.5*IQR\n",
    "df=df[df['Percentage']>Lower_Whisker]"
   ]
  },
  {
   "cell_type": "code",
   "execution_count": 22,
   "id": "2cea633f",
   "metadata": {},
   "outputs": [
    {
     "data": {
      "text/plain": [
       "<AxesSubplot:>"
      ]
     },
     "execution_count": 22,
     "metadata": {},
     "output_type": "execute_result"
    },
    {
     "data": {
      "image/png": "[encoded data removed]",
      "text/plain": [
       "<Figure size 432x288 with 1 Axes>"
      ]
     },
     "metadata": {
      "needs_background": "light"
     },
     "output_type": "display_data"
    }
   ],
   "source": [
    "df.boxplot(column=['Percentage'],return_type='axes')"
   ]
  },
  {
   "cell_type": "markdown",
   "id": "6818583c",
   "metadata": {},
   "source": [
    "### Attendance column has outliers and is handeled by replcing records with median\n"
   ]
  },
  {
   "cell_type": "code",
   "execution_count": 23,
   "id": "9c8c46e1",
   "metadata": {},
   "outputs": [
    {
     "data": {
      "text/plain": [
       "<AxesSubplot:>"
      ]
     },
     "execution_count": 23,
     "metadata": {},
     "output_type": "execute_result"
    },
    {
     "data": {
      "image/png": "[encoded data removed]",
      "text/plain": [
       "<Figure size 432x288 with 1 Axes>"
      ]
     },
     "metadata": {
      "needs_background": "light"
     },
     "output_type": "display_data"
    }
   ],
   "source": [
    "df.boxplot(column=['attendance'],return_type='axes')"
   ]
  },
  {
   "cell_type": "code",
   "execution_count": 24,
   "id": "8229b3af",
   "metadata": {},
   "outputs": [],
   "source": [
    "Q1=df['attendance'].quantile(0.25)\n",
    "Q3=df['attendance'].quantile(0.75)\n",
    "IQR=Q3-Q1\n",
    "Lower_Whisker=Q1-1.5*IQR\n",
    "median = df.loc[df['attendance']>Lower_Whisker, 'attendance'].median()\n",
    "df['attendance']=np.where(df['attendance']<Lower_Whisker,median,df['attendance'])\n",
    "\n"
   ]
  },
  {
   "cell_type": "code",
   "execution_count": 25,
   "id": "4a124e27",
   "metadata": {},
   "outputs": [
    {
     "data": {
      "text/plain": [
       "<AxesSubplot:>"
      ]
     },
     "execution_count": 25,
     "metadata": {},
     "output_type": "execute_result"
    },
    {
     "data": {
      "image/png": "[encoded data removed]",
      "text/plain": [
       "<Figure size 432x288 with 1 Axes>"
      ]
     },
     "metadata": {
      "needs_background": "light"
     },
     "output_type": "display_data"
    }
   ],
   "source": [
    "df.boxplot(column=['attendance'],return_type='axes')"
   ]
  },
  {
   "cell_type": "code",
   "execution_count": 26,
   "id": "6d116671",
   "metadata": {},
   "outputs": [],
   "source": [
    "df['attendance'].fillna((df['attendance'].mean()),inplace=True)"
   ]
  },
  {
   "cell_type": "markdown",
   "id": "1d6d5b80",
   "metadata": {},
   "source": [
    "## Using MinMaxScaler to scale the data"
   ]
  },
  {
   "cell_type": "code",
   "execution_count": 27,
   "id": "771320f4",
   "metadata": {},
   "outputs": [],
   "source": [
    "from sklearn.preprocessing import MinMaxScaler\n"
   ]
  },
  {
   "cell_type": "code",
   "execution_count": 28,
   "id": "2e8c1741",
   "metadata": {},
   "outputs": [
    {
     "data": {
      "text/html": [
       "<div>\n",
       "<style scoped>\n",
       "    .dataframe tbody tr th:only-of-type {\n",
       "        vertical-align: middle;\n",
       "    }\n",
       "\n",
       "    .dataframe tbody tr th {\n",
       "        vertical-align: top;\n",
       "    }\n",
       "\n",
       "    .dataframe thead th {\n",
       "        text-align: right;\n",
       "    }\n",
       "</style>\n",
       "<table border=\"1\" class=\"dataframe\">\n",
       "  <thead>\n",
       "    <tr style=\"text-align: right;\">\n",
       "      <th></th>\n",
       "      <th>marksPhy</th>\n",
       "      <th>marksChem</th>\n",
       "      <th>marksEM1</th>\n",
       "      <th>marksELEC</th>\n",
       "      <th>marksSME</th>\n",
       "    </tr>\n",
       "  </thead>\n",
       "  <tbody>\n",
       "    <tr>\n",
       "      <th>min</th>\n",
       "      <td>0.0</td>\n",
       "      <td>0.0</td>\n",
       "      <td>0.0</td>\n",
       "      <td>0.0</td>\n",
       "      <td>0.0</td>\n",
       "    </tr>\n",
       "    <tr>\n",
       "      <th>max</th>\n",
       "      <td>1.0</td>\n",
       "      <td>1.0</td>\n",
       "      <td>1.0</td>\n",
       "      <td>1.0</td>\n",
       "      <td>1.0</td>\n",
       "    </tr>\n",
       "  </tbody>\n",
       "</table>\n",
       "</div>"
      ],
      "text/plain": [
       "     marksPhy  marksChem  marksEM1  marksELEC  marksSME\n",
       "min       0.0        0.0       0.0        0.0       0.0\n",
       "max       1.0        1.0       1.0        1.0       1.0"
      ]
     },
     "execution_count": 28,
     "metadata": {},
     "output_type": "execute_result"
    }
   ],
   "source": [
    "scaler = MinMaxScaler()\n",
    "cols=['marksPhy','marksChem','marksEM1','marksELEC','marksSME']\n",
    "scaler.fit(df[cols])\n",
    "df[cols] = scaler.transform(df[cols])\n",
    "df[cols].describe().loc[['min', 'max']]\n"
   ]
  },
  {
   "cell_type": "code",
   "execution_count": 29,
   "id": "6500b00f",
   "metadata": {},
   "outputs": [
    {
     "data": {
      "text/plain": [
       "74.0"
      ]
     },
     "execution_count": 29,
     "metadata": {},
     "output_type": "execute_result"
    }
   ],
   "source": [
    "df['attendance'].min()"
   ]
  },
  {
   "cell_type": "code",
   "execution_count": 32,
   "id": "0425ea90",
   "metadata": {},
   "outputs": [
    {
     "data": {
      "text/plain": [
       "99.0"
      ]
     },
     "execution_count": 32,
     "metadata": {},
     "output_type": "execute_result"
    }
   ],
   "source": [
    "df['attendance'].max()"
   ]
  },
  {
   "cell_type": "code",
   "execution_count": 34,
   "id": "c6f85d07",
   "metadata": {},
   "outputs": [],
   "source": [
    "cut_points=[70,80,90,100]\n",
    "labels=['poor','average','excellent']\n",
    "df['Attendance Remark']=pd.cut(df['attendance'],bins=cut_points,labels=labels)"
   ]
  },
  {
   "cell_type": "code",
   "execution_count": 35,
   "id": "edcba8d7",
   "metadata": {},
   "outputs": [
    {
     "data": {
      "text/html": [
       "<div>\n",
       "<style scoped>\n",
       "    .dataframe tbody tr th:only-of-type {\n",
       "        vertical-align: middle;\n",
       "    }\n",
       "\n",
       "    .dataframe tbody tr th {\n",
       "        vertical-align: top;\n",
       "    }\n",
       "\n",
       "    .dataframe thead th {\n",
       "        text-align: right;\n",
       "    }\n",
       "</style>\n",
       "<table border=\"1\" class=\"dataframe\">\n",
       "  <thead>\n",
       "    <tr style=\"text-align: right;\">\n",
       "      <th></th>\n",
       "      <th>rollno</th>\n",
       "      <th>branch</th>\n",
       "      <th>marksPhy</th>\n",
       "      <th>marksChem</th>\n",
       "      <th>marksEM1</th>\n",
       "      <th>marksELEC</th>\n",
       "      <th>marksSME</th>\n",
       "      <th>Percentage</th>\n",
       "      <th>attendance</th>\n",
       "      <th>gender</th>\n",
       "      <th>Attendance Remark</th>\n",
       "    </tr>\n",
       "  </thead>\n",
       "  <tbody>\n",
       "    <tr>\n",
       "      <th>95</th>\n",
       "      <td>96</td>\n",
       "      <td>Comp</td>\n",
       "      <td>0.648718</td>\n",
       "      <td>0.894118</td>\n",
       "      <td>0.697368</td>\n",
       "      <td>0.964706</td>\n",
       "      <td>0.701299</td>\n",
       "      <td>81.428205</td>\n",
       "      <td>87.000000</td>\n",
       "      <td>M</td>\n",
       "      <td>average</td>\n",
       "    </tr>\n",
       "    <tr>\n",
       "      <th>68</th>\n",
       "      <td>69</td>\n",
       "      <td>Comp</td>\n",
       "      <td>0.505882</td>\n",
       "      <td>0.105882</td>\n",
       "      <td>0.697368</td>\n",
       "      <td>0.494118</td>\n",
       "      <td>0.602814</td>\n",
       "      <td>56.083333</td>\n",
       "      <td>87.000000</td>\n",
       "      <td>M</td>\n",
       "      <td>average</td>\n",
       "    </tr>\n",
       "    <tr>\n",
       "      <th>36</th>\n",
       "      <td>37</td>\n",
       "      <td>IT</td>\n",
       "      <td>0.648718</td>\n",
       "      <td>0.717647</td>\n",
       "      <td>0.407895</td>\n",
       "      <td>0.211765</td>\n",
       "      <td>0.558442</td>\n",
       "      <td>59.028205</td>\n",
       "      <td>92.000000</td>\n",
       "      <td>M</td>\n",
       "      <td>excellent</td>\n",
       "    </tr>\n",
       "    <tr>\n",
       "      <th>80</th>\n",
       "      <td>81</td>\n",
       "      <td>Comp</td>\n",
       "      <td>0.470588</td>\n",
       "      <td>0.282353</td>\n",
       "      <td>0.447368</td>\n",
       "      <td>0.729412</td>\n",
       "      <td>0.441558</td>\n",
       "      <td>56.200000</td>\n",
       "      <td>87.000000</td>\n",
       "      <td>F</td>\n",
       "      <td>average</td>\n",
       "    </tr>\n",
       "    <tr>\n",
       "      <th>8</th>\n",
       "      <td>9</td>\n",
       "      <td>ENTC</td>\n",
       "      <td>1.000000</td>\n",
       "      <td>0.870588</td>\n",
       "      <td>0.881579</td>\n",
       "      <td>0.364706</td>\n",
       "      <td>0.883117</td>\n",
       "      <td>82.400000</td>\n",
       "      <td>88.000000</td>\n",
       "      <td>F</td>\n",
       "      <td>average</td>\n",
       "    </tr>\n",
       "    <tr>\n",
       "      <th>20</th>\n",
       "      <td>21</td>\n",
       "      <td>Comp</td>\n",
       "      <td>0.752941</td>\n",
       "      <td>1.000000</td>\n",
       "      <td>0.684211</td>\n",
       "      <td>0.952941</td>\n",
       "      <td>0.415584</td>\n",
       "      <td>80.200000</td>\n",
       "      <td>87.000000</td>\n",
       "      <td>F</td>\n",
       "      <td>average</td>\n",
       "    </tr>\n",
       "    <tr>\n",
       "      <th>76</th>\n",
       "      <td>77</td>\n",
       "      <td>IT</td>\n",
       "      <td>0.470588</td>\n",
       "      <td>0.352941</td>\n",
       "      <td>0.881579</td>\n",
       "      <td>0.894118</td>\n",
       "      <td>0.558442</td>\n",
       "      <td>68.600000</td>\n",
       "      <td>77.000000</td>\n",
       "      <td>F</td>\n",
       "      <td>poor</td>\n",
       "    </tr>\n",
       "    <tr>\n",
       "      <th>30</th>\n",
       "      <td>31</td>\n",
       "      <td>ENTC</td>\n",
       "      <td>0.835294</td>\n",
       "      <td>0.835294</td>\n",
       "      <td>0.434211</td>\n",
       "      <td>0.223529</td>\n",
       "      <td>0.584416</td>\n",
       "      <td>65.200000</td>\n",
       "      <td>95.000000</td>\n",
       "      <td>M</td>\n",
       "      <td>excellent</td>\n",
       "    </tr>\n",
       "    <tr>\n",
       "      <th>50</th>\n",
       "      <td>51</td>\n",
       "      <td>ENTC</td>\n",
       "      <td>0.648718</td>\n",
       "      <td>0.494118</td>\n",
       "      <td>0.934211</td>\n",
       "      <td>0.752941</td>\n",
       "      <td>0.519481</td>\n",
       "      <td>71.828205</td>\n",
       "      <td>86.425287</td>\n",
       "      <td>F</td>\n",
       "      <td>average</td>\n",
       "    </tr>\n",
       "    <tr>\n",
       "      <th>87</th>\n",
       "      <td>88</td>\n",
       "      <td>ENTC</td>\n",
       "      <td>0.223529</td>\n",
       "      <td>0.811765</td>\n",
       "      <td>0.881579</td>\n",
       "      <td>0.564706</td>\n",
       "      <td>0.602814</td>\n",
       "      <td>67.283333</td>\n",
       "      <td>90.000000</td>\n",
       "      <td>M</td>\n",
       "      <td>average</td>\n",
       "    </tr>\n",
       "  </tbody>\n",
       "</table>\n",
       "</div>"
      ],
      "text/plain": [
       "    rollno branch  marksPhy  marksChem  marksEM1  marksELEC  marksSME  \\\n",
       "95      96   Comp  0.648718   0.894118  0.697368   0.964706  0.701299   \n",
       "68      69   Comp  0.505882   0.105882  0.697368   0.494118  0.602814   \n",
       "36      37     IT  0.648718   0.717647  0.407895   0.211765  0.558442   \n",
       "80      81   Comp  0.470588   0.282353  0.447368   0.729412  0.441558   \n",
       "8        9   ENTC  1.000000   0.870588  0.881579   0.364706  0.883117   \n",
       "20      21   Comp  0.752941   1.000000  0.684211   0.952941  0.415584   \n",
       "76      77     IT  0.470588   0.352941  0.881579   0.894118  0.558442   \n",
       "30      31   ENTC  0.835294   0.835294  0.434211   0.223529  0.584416   \n",
       "50      51   ENTC  0.648718   0.494118  0.934211   0.752941  0.519481   \n",
       "87      88   ENTC  0.223529   0.811765  0.881579   0.564706  0.602814   \n",
       "\n",
       "    Percentage  attendance gender Attendance Remark  \n",
       "95   81.428205   87.000000      M           average  \n",
       "68   56.083333   87.000000      M           average  \n",
       "36   59.028205   92.000000      M         excellent  \n",
       "80   56.200000   87.000000      F           average  \n",
       "8    82.400000   88.000000      F           average  \n",
       "20   80.200000   87.000000      F           average  \n",
       "76   68.600000   77.000000      F              poor  \n",
       "30   65.200000   95.000000      M         excellent  \n",
       "50   71.828205   86.425287      F           average  \n",
       "87   67.283333   90.000000      M           average  "
      ]
     },
     "execution_count": 35,
     "metadata": {},
     "output_type": "execute_result"
    }
   ],
   "source": [
    "df.sample(10)"
   ]
  },
  {
   "cell_type": "code",
   "execution_count": 36,
   "id": "6c8b03e9",
   "metadata": {},
   "outputs": [],
   "source": [
    "df.to_csv(\"processed_student_data.csv\")"
   ]
  }
 ],
 "metadata": {
  "kernelspec": {
   "display_name": "Python 3",
   "language": "python",
   "name": "python3"
  },
  "language_info": {
   "codemirror_mode": {
    "name": "ipython",
    "version": 3
   },
   "file_extension": ".py",
   "mimetype": "text/x-python",
   "name": "python",
   "nbconvert_exporter": "python",
   "pygments_lexer": "ipython3",
   "version": "3.8.8"
  }
 },
 "nbformat": 4,
 "nbformat_minor": 5
}
